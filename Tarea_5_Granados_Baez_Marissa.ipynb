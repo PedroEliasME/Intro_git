{
 "metadata": {
  "language": "Julia",
  "name": "",
  "signature": "sha256:7eac9dbc871ce3a9908de7c033aaac1461813c3aca1c9ce9b49603723977df35"
 },
 "nbformat": 3,
 "nbformat_minor": 0,
 "worksheets": [
  {
   "cells": [
    {
     "cell_type": "heading",
     "level": 1,
     "metadata": {},
     "source": [
      "Tarea 5. Granados B\u00e1ez Marissa"
     ]
    },
    {
     "cell_type": "heading",
     "level": 2,
     "metadata": {},
     "source": [
      "No. de cuenta 412000445"
     ]
    },
    {
     "cell_type": "markdown",
     "metadata": {},
     "source": [
      "**1. P\u00e9ndulo doble**\n",
      "\n",
      "Un p\u00e9ndulo doble consiste de una masa $m_1$ suspendida de un punto fijo mediante una varilla sin masa, de longitud $\\ell_1$ y una masa $m_2$ suspendidad de $m_1$ mediante una varilla sin masa, de longitud $\\ell_2$.\n",
      "\n",
      "- Escribe la lagrangiana del sistema en coordenadas cartesianas y despu\u00e9s cambia a un sistema de coordenadas m\u00e1s adecuado.\n",
      "\n",
      "- Deduce las ecuaciones de Euler-Lagrange.\n",
      "\n",
      "- Integra las ecuaciones usando el m\u00e9todo de Euler-Cromer. Para usar las ecuaciones del inciso anterior para c\u00e1lculos num\u00e9ricos define una funci\u00f3n para cada ecuaci\u00f3n, cuyos argumentos sean n\u00fameros de Julia y el resultado sea un n\u00famero de Julia, no de SymPy. Las funciones deben ser aptas para d\u00e1rselas a Euler-Cromer, es decir, s\u00f3lo deben pedir cantidades din\u00e1micas. Los par\u00e1metros del sistema los puedes poner con `subs` al definir la funci\u00f3n.\n",
      "\n",
      "- Grafica un corte del espacio fase, correspondiente a las coordenadas de los dos p\u00e9ndulos, para distintas condiciones iniciales. \u00bfQu\u00e9 observas?.\n"
     ]
    },
    {
     "cell_type": "code",
     "collapsed": false,
     "input": [
      "Pkg.add(\"SymPy\")"
     ],
     "language": "python",
     "metadata": {},
     "outputs": [
      {
       "output_type": "stream",
       "stream": "stderr",
       "text": [
        "INFO: Nothing to be done\n"
       ]
      },
      {
       "output_type": "stream",
       "stream": "stderr",
       "text": [
        "INFO: METADATA is out-of-date \u2014 you may not have the latest version of SymPy\n"
       ]
      },
      {
       "output_type": "stream",
       "stream": "stderr",
       "text": [
        "INFO: Use `Pkg.update()` to get the latest versions of your packages\n"
       ]
      }
     ],
     "prompt_number": 1
    },
    {
     "cell_type": "code",
     "collapsed": false,
     "input": [
      "using SymPy"
     ],
     "language": "python",
     "metadata": {},
     "outputs": [
      {
       "output_type": "stream",
       "stream": "stderr",
       "text": [
        "Warning: imported binding for transpose overwritten in module __anon__\n"
       ]
      }
     ],
     "prompt_number": 2
    },
    {
     "cell_type": "heading",
     "level": 3,
     "metadata": {},
     "source": [
      "- Escribe la lagrangiana del sistema en coordenadas cartesianas y despu\u00e9s cambia a un sistema de coordenadas m\u00e1s adecuado."
     ]
    },
    {
     "cell_type": "markdown",
     "metadata": {},
     "source": [
      "Las coordenadas cartesianas de $m_1$ y $m_2$ con el origen en en la base de la cuerda de longitud $l_1$ son:"
     ]
    },
    {
     "cell_type": "code",
     "collapsed": false,
     "input": [
      "x"
     ],
     "language": "python",
     "metadata": {},
     "outputs": []
    },
    {
     "cell_type": "code",
     "collapsed": false,
     "input": [
      "l_1 = sym\"l_1\"\n",
      "l_2 = sym\"l_2\"\n",
      "m_1 = sym\"m_1\"\n",
      "m_2 = sym\"m_2\"\n",
      "t = sym\"t\"\n",
      "theta_1 = SymFunction(\"theta_1\")\n",
      "theta_2 = SymFunction(\"theta_2\")"
     ],
     "language": "python",
     "metadata": {},
     "outputs": [
      {
       "metadata": {},
       "output_type": "pyout",
       "prompt_number": 3,
       "text": [
        "(anonymous function)"
       ]
      }
     ],
     "prompt_number": 3
    },
    {
     "cell_type": "code",
     "collapsed": false,
     "input": [
      "x_1=l_1*sin(theta_1(t))\n",
      "y_1=-l_1*cos(theta_1(t))\n",
      "x_2=l_1*sin(theta_1(t))+l_2*sin(theta_2(t))\n",
      "y_2=-l_1*cos(theta_1(t))-l_2*cos(theta_2(t))"
     ],
     "language": "python",
     "metadata": {},
     "outputs": [
      {
       "latex": [
        "$$- l_{1} \\cos{\\left (\\theta_{1}{\\left (t \\right )} \\right )} - l_{2} \\cos{\\left (\\theta_{2}{\\left (t \\right )} \\right )}$$"
       ],
       "metadata": {},
       "output_type": "pyout",
       "prompt_number": 30,
       "text": [
        "-l_1*cos(theta_1(t)) - l_2*cos(theta_2(t))"
       ]
      }
     ],
     "prompt_number": 30
    },
    {
     "cell_type": "code",
     "collapsed": false,
     "input": [
      "vx1 = Sym(\"\\\\dot{x_1}\")\n",
      "vy1 = Sym(\"\\\\dot{y_1}\")\n",
      "vx2 = Sym(\"\\\\dot{x_2}\")\n",
      "vy2 = Sym(\"\\\\dot{y_2}\")"
     ],
     "language": "python",
     "metadata": {},
     "outputs": [
      {
       "latex": [
        "$$\\dot{y_{2}}$$"
       ],
       "metadata": {},
       "output_type": "pyout",
       "prompt_number": 13,
       "text": [
        "\\dot{y_2}"
       ]
      }
     ],
     "prompt_number": 13
    },
    {
     "cell_type": "code",
     "collapsed": false,
     "input": [
      "vx1=diff(x_1,t)"
     ],
     "language": "python",
     "metadata": {},
     "outputs": [
      {
       "latex": [
        "$$l_{1} \\cos{\\left (\\theta_{1}{\\left (t \\right )} \\right )} \\frac{d}{d t} \\theta_{1}{\\left (t \\right )}$$"
       ],
       "metadata": {},
       "output_type": "pyout",
       "prompt_number": 14,
       "text": [
        "                    d             \n",
        "l_1*cos(theta_1(t))*--(theta_1(t))\n",
        "                    dt            "
       ]
      }
     ],
     "prompt_number": 14
    },
    {
     "cell_type": "code",
     "collapsed": false,
     "input": [
      "vy1=diff(y_1,t)"
     ],
     "language": "python",
     "metadata": {},
     "outputs": [
      {
       "latex": [
        "$$l_{1} \\sin{\\left (\\theta_{1}{\\left (t \\right )} \\right )} \\frac{d}{d t} \\theta_{1}{\\left (t \\right )}$$"
       ],
       "metadata": {},
       "output_type": "pyout",
       "prompt_number": 31,
       "text": [
        "                    d             \n",
        "l_1*sin(theta_1(t))*--(theta_1(t))\n",
        "                    dt            "
       ]
      }
     ],
     "prompt_number": 31
    },
    {
     "cell_type": "code",
     "collapsed": false,
     "input": [
      "vx2=diff(x_2,t)"
     ],
     "language": "python",
     "metadata": {},
     "outputs": [
      {
       "latex": [
        "$$l_{1} \\cos{\\left (\\theta_{1}{\\left (t \\right )} \\right )} \\frac{d}{d t} \\theta_{1}{\\left (t \\right )} + l_{2} \\cos{\\left (\\theta_{2}{\\left (t \\right )} \\right )} \\frac{d}{d t} \\theta_{2}{\\left (t \\right )}$$"
       ],
       "metadata": {},
       "output_type": "pyout",
       "prompt_number": 16,
       "text": [
        "                    d                                    d             \n",
        "l_1*cos(theta_1(t))*--(theta_1(t)) + l_2*cos(theta_2(t))*--(theta_2(t))\n",
        "                    dt                                   dt            "
       ]
      }
     ],
     "prompt_number": 16
    },
    {
     "cell_type": "code",
     "collapsed": false,
     "input": [
      "vy2=diff(y_2,t)"
     ],
     "language": "python",
     "metadata": {},
     "outputs": [
      {
       "latex": [
        "$$l_{1} \\sin{\\left (\\theta_{1}{\\left (t \\right )} \\right )} \\frac{d}{d t} \\theta_{1}{\\left (t \\right )} + l_{2} \\sin{\\left (\\theta_{2}{\\left (t \\right )} \\right )} \\frac{d}{d t} \\theta_{2}{\\left (t \\right )}$$"
       ],
       "metadata": {},
       "output_type": "pyout",
       "prompt_number": 17,
       "text": [
        "                    d                                    d             \n",
        "l_1*sin(theta_1(t))*--(theta_1(t)) + l_2*sin(theta_2(t))*--(theta_2(t))\n",
        "                    dt                                   dt            "
       ]
      }
     ],
     "prompt_number": 17
    },
    {
     "cell_type": "code",
     "collapsed": false,
     "input": [
      "T = sym\"T\""
     ],
     "language": "python",
     "metadata": {},
     "outputs": [
      {
       "latex": [
        "$$T$$"
       ],
       "metadata": {},
       "output_type": "pyout",
       "prompt_number": 19,
       "text": [
        "T"
       ]
      }
     ],
     "prompt_number": 19
    },
    {
     "cell_type": "code",
     "collapsed": false,
     "input": [
      "T=simplify((1/2)*m_1*(vx1^2+vy1^2)+(1/2)*m_2*(vx2^2+vy2^2))"
     ],
     "language": "python",
     "metadata": {},
     "outputs": [
      {
       "latex": [
        "$$0.5 l_{1}^{2} m_{1} \\left(\\frac{d}{d t} \\theta_{1}{\\left (t \\right )}\\right)^{2} + 0.5 m_{2} \\left(l_{1}^{2} \\left(\\frac{d}{d t} \\theta_{1}{\\left (t \\right )}\\right)^{2} + 2 l_{1} l_{2} \\cos{\\left (\\theta_{1}{\\left (t \\right )} - \\theta_{2}{\\left (t \\right )} \\right )} \\frac{d}{d t} \\theta_{1}{\\left (t \\right )} \\frac{d}{d t} \\theta_{2}{\\left (t \\right )} + l_{2}^{2} \\left(\\frac{d}{d t} \\theta_{2}{\\left (t \\right )}\\right)^{2}\\right)$$"
       ],
       "metadata": {},
       "output_type": "pyout",
       "prompt_number": 25,
       "text": [
        "                             2           /                     2              \n",
        "       2     /d             \\            |   2 /d             \\               \n",
        "0.5*l_1 *m_1*|--(theta_1(t))|  + 0.5*m_2*|l_1 *|--(theta_1(t))|  + 2*l_1*l_2*c\n",
        "             \\dt            /            \\     \\dt            /               \n",
        "\n",
        "                                                                              \n",
        "                            d              d                   2 /d           \n",
        "os(theta_1(t) - theta_2(t))*--(theta_1(t))*--(theta_2(t)) + l_2 *|--(theta_2(t\n",
        "                            dt             dt                    \\dt          \n",
        "\n",
        "   2\\\n",
        "  \\ |\n",
        "))| |\n",
        "  / /"
       ]
      }
     ],
     "prompt_number": 25
    },
    {
     "cell_type": "code",
     "collapsed": false,
     "input": [
      "V=sym\"V\"\n",
      "g=sym\"g\""
     ],
     "language": "python",
     "metadata": {},
     "outputs": [
      {
       "latex": [
        "$$g$$"
       ],
       "metadata": {},
       "output_type": "pyout",
       "prompt_number": 27,
       "text": [
        "g"
       ]
      }
     ],
     "prompt_number": 27
    },
    {
     "cell_type": "code",
     "collapsed": false,
     "input": [
      "V=simplify(-m_1*g*y_1-m_2*g*y_2)"
     ],
     "language": "python",
     "metadata": {},
     "outputs": [
      {
       "latex": [
        "$$g \\left(l_{1} m_{1} \\cos{\\left (\\theta_{1}{\\left (t \\right )} \\right )} + m_{2} \\left(l_{1} \\cos{\\left (\\theta_{1}{\\left (t \\right )} \\right )} + l_{2} \\cos{\\left (\\theta_{2}{\\left (t \\right )} \\right )}\\right)\\right)$$"
       ],
       "metadata": {},
       "output_type": "pyout",
       "prompt_number": 36,
       "text": [
        "g*(l_1*m_1*cos(theta_1(t)) + m_2*(l_1*cos(theta_1(t)) + l_2*cos(theta_2(t))))"
       ]
      }
     ],
     "prompt_number": 36
    },
    {
     "cell_type": "code",
     "collapsed": false,
     "input": [
      "E=sym\"E\""
     ],
     "language": "python",
     "metadata": {},
     "outputs": [
      {
       "latex": [
        "$$E$$"
       ],
       "metadata": {},
       "output_type": "pyout",
       "prompt_number": 37,
       "text": [
        "E"
       ]
      }
     ],
     "prompt_number": 37
    },
    {
     "cell_type": "code",
     "collapsed": false,
     "input": [
      "E=simplify(T-V)"
     ],
     "language": "python",
     "metadata": {},
     "outputs": [
      {
       "latex": [
        "$$- g \\left(l_{1} m_{1} \\cos{\\left (\\theta_{1}{\\left (t \\right )} \\right )} + m_{2} \\left(l_{1} \\cos{\\left (\\theta_{1}{\\left (t \\right )} \\right )} + l_{2} \\cos{\\left (\\theta_{2}{\\left (t \\right )} \\right )}\\right)\\right) + 0.5 l_{1}^{2} m_{1} \\left(\\frac{d}{d t} \\theta_{1}{\\left (t \\right )}\\right)^{2} + 0.5 m_{2} \\left(l_{1}^{2} \\left(\\frac{d}{d t} \\theta_{1}{\\left (t \\right )}\\right)^{2} + 2 l_{1} l_{2} \\cos{\\left (\\theta_{1}{\\left (t \\right )} - \\theta_{2}{\\left (t \\right )} \\right )} \\frac{d}{d t} \\theta_{1}{\\left (t \\right )} \\frac{d}{d t} \\theta_{2}{\\left (t \\right )} + l_{2}^{2} \\left(\\frac{d}{d t} \\theta_{2}{\\left (t \\right )}\\right)^{2}\\right)$$"
       ],
       "metadata": {},
       "output_type": "pyout",
       "prompt_number": 40,
       "text": [
        "                                                                              \n",
        "                                                                              \n",
        "-g*(l_1*m_1*cos(theta_1(t)) + m_2*(l_1*cos(theta_1(t)) + l_2*cos(theta_2(t))))\n",
        "                                                                              \n",
        "\n",
        "                                2           /                     2           \n",
        "          2     /d             \\            |   2 /d             \\            \n",
        " + 0.5*l_1 *m_1*|--(theta_1(t))|  + 0.5*m_2*|l_1 *|--(theta_1(t))|  + 2*l_1*l_\n",
        "                \\dt            /            \\     \\dt            /            \n",
        "\n",
        "                                                                              \n",
        "                               d              d                   2 /d        \n",
        "2*cos(theta_1(t) - theta_2(t))*--(theta_1(t))*--(theta_2(t)) + l_2 *|--(theta_\n",
        "                               dt             dt                    \\dt       \n",
        "\n",
        "      2\\\n",
        "     \\ |\n",
        "2(t))| |\n",
        "     / /"
       ]
      }
     ],
     "prompt_number": 40
    },
    {
     "cell_type": "code",
     "collapsed": false,
     "input": [
      "cos(theta_1(t))=theta_1"
     ],
     "language": "python",
     "metadata": {},
     "outputs": [
      {
       "ename": "LoadError",
       "evalue": "syntax: \"theta_1(t)\" is not a valid function argument name\nwhile loading In[39], in expression starting on line 1",
       "output_type": "pyerr",
       "traceback": [
        "syntax: \"theta_1(t)\" is not a valid function argument name\nwhile loading In[39], in expression starting on line 1",
        ""
       ]
      }
     ],
     "prompt_number": 39
    },
    {
     "cell_type": "code",
     "collapsed": false,
     "input": [],
     "language": "python",
     "metadata": {},
     "outputs": []
    }
   ],
   "metadata": {}
  }
 ]
}